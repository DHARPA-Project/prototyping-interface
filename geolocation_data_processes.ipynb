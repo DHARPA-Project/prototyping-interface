{
  "nbformat": 4,
  "nbformat_minor": 0,
  "metadata": {
    "colab": {
      "name": "geolocation_data_processes.ipynb",
      "provenance": [],
      "collapsed_sections": [],
      "toc_visible": true
    },
    "kernelspec": {
      "name": "python3",
      "display_name": "Python 3"
    }
  },
  "cells": [
    {
      "cell_type": "markdown",
      "metadata": {
        "id": "CScYJCruPdMj"
      },
      "source": [
        "This notebook summarises data processes for geolocation workflow (work in progress, further verifications needed)"
      ]
    },
    {
      "cell_type": "code",
      "metadata": {
        "id": "8sLbxBP-rXqz"
      },
      "source": [
        "import pandas as pd\n",
        "import csv"
      ],
      "execution_count": 1,
      "outputs": []
    },
    {
      "cell_type": "markdown",
      "metadata": {
        "id": "9FUYOqA_-orw"
      },
      "source": [
        "# Step 1: visual exploration for editing"
      ]
    },
    {
      "cell_type": "markdown",
      "metadata": {
        "id": "bIKIhaFv8QIa"
      },
      "source": [
        "## 1. Initital data set-up"
      ]
    },
    {
      "cell_type": "code",
      "metadata": {
        "id": "zXVdssS9umx8",
        "colab": {
          "base_uri": "https://localhost:8080/"
        },
        "outputId": "086e9d54-5af5-44ff-c2c8-837a75a4f873"
      },
      "source": [
        "#upload user data\n",
        "user_df = pd.read_csv('anon_rosterm_id.csv')"
      ],
      "execution_count": 2,
      "outputs": [
        {
          "output_type": "stream",
          "text": [
            "/usr/local/lib/python3.6/dist-packages/IPython/core/interactiveshell.py:2718: DtypeWarning: Columns (2,42,80,81,82,93,126,128,177,215,256,257) have mixed types.Specify dtype option on import or set low_memory=False.\n",
            "  interactivity=interactivity, compiler=compiler, result=result)\n"
          ],
          "name": "stderr"
        }
      ]
    },
    {
      "cell_type": "code",
      "metadata": {
        "id": "hB-0KxJ5u1RI"
      },
      "source": [
        "#select column to work with\n",
        "user_df_selection = user_df[['ersatz_id','GCcleanPOBlat','GCcleanPOBlon','rawPOB','GCcleanPOBprec']].copy()"
      ],
      "execution_count": 3,
      "outputs": []
    },
    {
      "cell_type": "markdown",
      "metadata": {
        "id": "FMCL3wi9ilaB"
      },
      "source": [
        "## 2. Grouping on coordinates for better map performance (without categories)\n",
        "\n"
      ]
    },
    {
      "cell_type": "markdown",
      "metadata": {
        "id": "yD1lifAnNuaO"
      },
      "source": [
        "Before creating the map, the app should generate a dataframe that contains only unique lats and longs to display only these points"
      ]
    },
    {
      "cell_type": "code",
      "metadata": {
        "id": "4W4Ua31cSWd6"
      },
      "source": [
        "user_df_groupcoord = user_df[['GCcleanPOBlat','GCcleanPOBlon','ersatz_id']].copy()"
      ],
      "execution_count": 34,
      "outputs": []
    },
    {
      "cell_type": "code",
      "metadata": {
        "id": "1P40V3FojZEw"
      },
      "source": [
        "reduced_dataset = user_df_groupcoord.groupby(['GCcleanPOBlat','GCcleanPOBlon']).count().reset_index()"
      ],
      "execution_count": 35,
      "outputs": []
    },
    {
      "cell_type": "code",
      "metadata": {
        "id": "a0fOe0Ykto8y"
      },
      "source": [
        "reduced_dataset = reduced_dataset.rename(columns={'ersatz_id': 'count'})"
      ],
      "execution_count": 37,
      "outputs": []
    },
    {
      "cell_type": "code",
      "metadata": {
        "id": "GCXCHa8NjcsK",
        "colab": {
          "base_uri": "https://localhost:8080/",
          "height": 419
        },
        "outputId": "a3306cb1-5781-4586-feb0-fa9a80e602d7"
      },
      "source": [
        "reduced_dataset"
      ],
      "execution_count": 38,
      "outputs": [
        {
          "output_type": "execute_result",
          "data": {
            "text/html": [
              "<div>\n",
              "<style scoped>\n",
              "    .dataframe tbody tr th:only-of-type {\n",
              "        vertical-align: middle;\n",
              "    }\n",
              "\n",
              "    .dataframe tbody tr th {\n",
              "        vertical-align: top;\n",
              "    }\n",
              "\n",
              "    .dataframe thead th {\n",
              "        text-align: right;\n",
              "    }\n",
              "</style>\n",
              "<table border=\"1\" class=\"dataframe\">\n",
              "  <thead>\n",
              "    <tr style=\"text-align: right;\">\n",
              "      <th></th>\n",
              "      <th>GCcleanPOBlat</th>\n",
              "      <th>GCcleanPOBlon</th>\n",
              "      <th>count</th>\n",
              "    </tr>\n",
              "  </thead>\n",
              "  <tbody>\n",
              "    <tr>\n",
              "      <th>0</th>\n",
              "      <td>-45.852222</td>\n",
              "      <td>170.393825</td>\n",
              "      <td>1</td>\n",
              "    </tr>\n",
              "    <tr>\n",
              "      <th>1</th>\n",
              "      <td>-37.751355</td>\n",
              "      <td>145.061185</td>\n",
              "      <td>1</td>\n",
              "    </tr>\n",
              "    <tr>\n",
              "      <th>2</th>\n",
              "      <td>-36.862941</td>\n",
              "      <td>174.725387</td>\n",
              "      <td>1</td>\n",
              "    </tr>\n",
              "    <tr>\n",
              "      <th>3</th>\n",
              "      <td>-29.848212</td>\n",
              "      <td>30.922423</td>\n",
              "      <td>2</td>\n",
              "    </tr>\n",
              "    <tr>\n",
              "      <th>4</th>\n",
              "      <td>-25.758273</td>\n",
              "      <td>28.057521</td>\n",
              "      <td>2</td>\n",
              "    </tr>\n",
              "    <tr>\n",
              "      <th>...</th>\n",
              "      <td>...</td>\n",
              "      <td>...</td>\n",
              "      <td>...</td>\n",
              "    </tr>\n",
              "    <tr>\n",
              "      <th>7424</th>\n",
              "      <td>70.370640</td>\n",
              "      <td>31.109547</td>\n",
              "      <td>1</td>\n",
              "    </tr>\n",
              "    <tr>\n",
              "      <th>7425</th>\n",
              "      <td>70.663438</td>\n",
              "      <td>23.681967</td>\n",
              "      <td>1</td>\n",
              "    </tr>\n",
              "    <tr>\n",
              "      <th>7426</th>\n",
              "      <td>78.788900</td>\n",
              "      <td>28.661400</td>\n",
              "      <td>2</td>\n",
              "    </tr>\n",
              "    <tr>\n",
              "      <th>7427</th>\n",
              "      <td>80.444167</td>\n",
              "      <td>46.201667</td>\n",
              "      <td>1</td>\n",
              "    </tr>\n",
              "    <tr>\n",
              "      <th>7428</th>\n",
              "      <td>139.638026</td>\n",
              "      <td>35.443708</td>\n",
              "      <td>1</td>\n",
              "    </tr>\n",
              "  </tbody>\n",
              "</table>\n",
              "<p>7429 rows × 3 columns</p>\n",
              "</div>"
            ],
            "text/plain": [
              "      GCcleanPOBlat  GCcleanPOBlon  count\n",
              "0        -45.852222     170.393825      1\n",
              "1        -37.751355     145.061185      1\n",
              "2        -36.862941     174.725387      1\n",
              "3        -29.848212      30.922423      2\n",
              "4        -25.758273      28.057521      2\n",
              "...             ...            ...    ...\n",
              "7424      70.370640      31.109547      1\n",
              "7425      70.663438      23.681967      1\n",
              "7426      78.788900      28.661400      2\n",
              "7427      80.444167      46.201667      1\n",
              "7428     139.638026      35.443708      1\n",
              "\n",
              "[7429 rows x 3 columns]"
            ]
          },
          "metadata": {
            "tags": []
          },
          "execution_count": 38
        }
      ]
    },
    {
      "cell_type": "code",
      "metadata": {
        "id": "2vpSZNCAkham"
      },
      "source": [
        "reduced_dataset.to_csv('reduced_data.csv')"
      ],
      "execution_count": null,
      "outputs": []
    },
    {
      "cell_type": "markdown",
      "metadata": {
        "id": "UpXNZBD_-umx"
      },
      "source": [
        "## 3. Grouping on coordinates and on user selected column to display categories"
      ]
    },
    {
      "cell_type": "markdown",
      "metadata": {
        "id": "XU2IYZiNN_q8"
      },
      "source": [
        "If a user performs a break-down by category, the previous step should be run again, grouping also on categories, so that we don't lose points for a given category"
      ]
    },
    {
      "cell_type": "code",
      "metadata": {
        "id": "H2taNxxc_FhW"
      },
      "source": [
        "# checking that the number of \"categories\" (unique values in a column) doesn't exceed 12"
      ],
      "execution_count": 5,
      "outputs": []
    },
    {
      "cell_type": "code",
      "metadata": {
        "colab": {
          "base_uri": "https://localhost:8080/"
        },
        "id": "8_aKp5r__d5z",
        "outputId": "42bd1954-773a-4d00-ff4c-0cdb81b96176"
      },
      "source": [
        "len(user_df_selection['GCcleanPOBprec'].unique()) > 12"
      ],
      "execution_count": 39,
      "outputs": [
        {
          "output_type": "execute_result",
          "data": {
            "text/plain": [
              "False"
            ]
          },
          "metadata": {
            "tags": []
          },
          "execution_count": 39
        }
      ]
    },
    {
      "cell_type": "code",
      "metadata": {
        "id": "H9BZbb5pTXYc"
      },
      "source": [
        "user_df_groupcoord2 = user_df[['GCcleanPOBlat','GCcleanPOBlon','ersatz_id','GCcleanPOBprec']].copy()"
      ],
      "execution_count": 47,
      "outputs": []
    },
    {
      "cell_type": "code",
      "metadata": {
        "id": "19WmlH7QTCwP"
      },
      "source": [
        "reduced_dataset2 = user_df_groupcoord2.groupby(['GCcleanPOBlat','GCcleanPOBlon','GCcleanPOBprec']).count().reset_index()"
      ],
      "execution_count": 48,
      "outputs": []
    },
    {
      "cell_type": "code",
      "metadata": {
        "id": "vM5o-O2ZT9Sc"
      },
      "source": [
        "reduced_dataset2 = reduced_dataset2.rename(columns={'ersatz_id': 'count'})"
      ],
      "execution_count": 50,
      "outputs": []
    },
    {
      "cell_type": "code",
      "metadata": {
        "colab": {
          "base_uri": "https://localhost:8080/",
          "height": 419
        },
        "id": "jMuUU7g-Nnqh",
        "outputId": "f31651f4-8c5c-4fd5-85a6-8a0ab40325e4"
      },
      "source": [
        "reduced_dataset2"
      ],
      "execution_count": 51,
      "outputs": [
        {
          "output_type": "execute_result",
          "data": {
            "text/html": [
              "<div>\n",
              "<style scoped>\n",
              "    .dataframe tbody tr th:only-of-type {\n",
              "        vertical-align: middle;\n",
              "    }\n",
              "\n",
              "    .dataframe tbody tr th {\n",
              "        vertical-align: top;\n",
              "    }\n",
              "\n",
              "    .dataframe thead th {\n",
              "        text-align: right;\n",
              "    }\n",
              "</style>\n",
              "<table border=\"1\" class=\"dataframe\">\n",
              "  <thead>\n",
              "    <tr style=\"text-align: right;\">\n",
              "      <th></th>\n",
              "      <th>GCcleanPOBlat</th>\n",
              "      <th>GCcleanPOBlon</th>\n",
              "      <th>GCcleanPOBprec</th>\n",
              "      <th>count</th>\n",
              "    </tr>\n",
              "  </thead>\n",
              "  <tbody>\n",
              "    <tr>\n",
              "      <th>0</th>\n",
              "      <td>-45.852222</td>\n",
              "      <td>170.393825</td>\n",
              "      <td>town</td>\n",
              "      <td>1</td>\n",
              "    </tr>\n",
              "    <tr>\n",
              "      <th>1</th>\n",
              "      <td>-37.751355</td>\n",
              "      <td>145.061185</td>\n",
              "      <td>town</td>\n",
              "      <td>1</td>\n",
              "    </tr>\n",
              "    <tr>\n",
              "      <th>2</th>\n",
              "      <td>-36.862941</td>\n",
              "      <td>174.725387</td>\n",
              "      <td>town</td>\n",
              "      <td>1</td>\n",
              "    </tr>\n",
              "    <tr>\n",
              "      <th>3</th>\n",
              "      <td>-29.848212</td>\n",
              "      <td>30.922423</td>\n",
              "      <td>town</td>\n",
              "      <td>2</td>\n",
              "    </tr>\n",
              "    <tr>\n",
              "      <th>4</th>\n",
              "      <td>-25.758273</td>\n",
              "      <td>28.057521</td>\n",
              "      <td>town</td>\n",
              "      <td>2</td>\n",
              "    </tr>\n",
              "    <tr>\n",
              "      <th>...</th>\n",
              "      <td>...</td>\n",
              "      <td>...</td>\n",
              "      <td>...</td>\n",
              "      <td>...</td>\n",
              "    </tr>\n",
              "    <tr>\n",
              "      <th>7434</th>\n",
              "      <td>70.370640</td>\n",
              "      <td>31.109547</td>\n",
              "      <td>town</td>\n",
              "      <td>1</td>\n",
              "    </tr>\n",
              "    <tr>\n",
              "      <th>7435</th>\n",
              "      <td>70.663438</td>\n",
              "      <td>23.681967</td>\n",
              "      <td>town</td>\n",
              "      <td>1</td>\n",
              "    </tr>\n",
              "    <tr>\n",
              "      <th>7436</th>\n",
              "      <td>78.788900</td>\n",
              "      <td>28.661400</td>\n",
              "      <td>town</td>\n",
              "      <td>2</td>\n",
              "    </tr>\n",
              "    <tr>\n",
              "      <th>7437</th>\n",
              "      <td>80.444167</td>\n",
              "      <td>46.201667</td>\n",
              "      <td>town</td>\n",
              "      <td>1</td>\n",
              "    </tr>\n",
              "    <tr>\n",
              "      <th>7438</th>\n",
              "      <td>139.638026</td>\n",
              "      <td>35.443708</td>\n",
              "      <td>town</td>\n",
              "      <td>1</td>\n",
              "    </tr>\n",
              "  </tbody>\n",
              "</table>\n",
              "<p>7439 rows × 4 columns</p>\n",
              "</div>"
            ],
            "text/plain": [
              "      GCcleanPOBlat  GCcleanPOBlon GCcleanPOBprec  count\n",
              "0        -45.852222     170.393825           town      1\n",
              "1        -37.751355     145.061185           town      1\n",
              "2        -36.862941     174.725387           town      1\n",
              "3        -29.848212      30.922423           town      2\n",
              "4        -25.758273      28.057521           town      2\n",
              "...             ...            ...            ...    ...\n",
              "7434      70.370640      31.109547           town      1\n",
              "7435      70.663438      23.681967           town      1\n",
              "7436      78.788900      28.661400           town      2\n",
              "7437      80.444167      46.201667           town      1\n",
              "7438     139.638026      35.443708           town      1\n",
              "\n",
              "[7439 rows x 4 columns]"
            ]
          },
          "metadata": {
            "tags": []
          },
          "execution_count": 51
        }
      ]
    },
    {
      "cell_type": "code",
      "metadata": {
        "id": "bGd2brFOUOP6"
      },
      "source": [
        "reduced_dataset2.to_csv('reduced_data2.csv')"
      ],
      "execution_count": null,
      "outputs": []
    },
    {
      "cell_type": "markdown",
      "metadata": {
        "id": "_FEe6heJ7oOP"
      },
      "source": [
        "## 4. Data edits"
      ]
    },
    {
      "cell_type": "markdown",
      "metadata": {
        "id": "F6zaRXKx7rFD"
      },
      "source": [
        "The notebook containing the edits will be created dynamically from the interface, here is an example of how an edit might look like"
      ]
    },
    {
      "cell_type": "code",
      "metadata": {
        "id": "Bz0ueSQcxuUw"
      },
      "source": [
        "# data edits\n",
        "# for example: modify latitude and longitude for ersatz id nr 25043\n",
        "new_lat = '35.4437078' #user input\n",
        "new_lon = '139.6380256' #user inout"
      ],
      "execution_count": null,
      "outputs": []
    },
    {
      "cell_type": "code",
      "metadata": {
        "id": "4cCkNv227Vbp"
      },
      "source": [
        "#create a copy of the selection to add modifs without changing initial user df\n",
        "user_df_edit = user_df_selection.copy()"
      ],
      "execution_count": null,
      "outputs": []
    },
    {
      "cell_type": "code",
      "metadata": {
        "id": "HzbMZBhi8Hmx"
      },
      "source": [
        "user_df_edit.loc[25042,'GCcleanPOBlat'] = new_lat"
      ],
      "execution_count": null,
      "outputs": []
    },
    {
      "cell_type": "code",
      "metadata": {
        "id": "iZIsl0338zTI"
      },
      "source": [
        "user_df_edit.loc[25042,'GCcleanPOBlon'] = new_lon"
      ],
      "execution_count": null,
      "outputs": []
    },
    {
      "cell_type": "code",
      "metadata": {
        "id": "UZFfZ15h83gC",
        "colab": {
          "base_uri": "https://localhost:8080/",
          "height": 119
        },
        "outputId": "371b856a-d3b3-4b25-b25a-4c6ff1a53007"
      },
      "source": [
        "user_df_edit.loc[25042]"
      ],
      "execution_count": null,
      "outputs": [
        {
          "output_type": "execute_result",
          "data": {
            "text/plain": [
              "ersatz_id                  25043\n",
              "GCcleanPOBlat         35.4437078\n",
              "GCcleanPOBlon        139.6380256\n",
              "rawPOB            Yokohama Japan\n",
              "GCcleanPOBprec              town\n",
              "Name: 25042, dtype: object"
            ]
          },
          "metadata": {
            "tags": []
          },
          "execution_count": 62
        }
      ]
    },
    {
      "cell_type": "markdown",
      "metadata": {
        "id": "3r9A4da-_f2I"
      },
      "source": [
        "## 5. Categories and counting"
      ]
    },
    {
      "cell_type": "code",
      "metadata": {
        "id": "XNxNLCxfQw7v"
      },
      "source": [
        "# this step will probably be performed by interface"
      ],
      "execution_count": null,
      "outputs": []
    },
    {
      "cell_type": "code",
      "metadata": {
        "id": "_XsqT0wLEyBu"
      },
      "source": [
        "user_df_groupby = user_df_edit.copy()"
      ],
      "execution_count": null,
      "outputs": []
    },
    {
      "cell_type": "code",
      "metadata": {
        "id": "RMwnP3PQE95U"
      },
      "source": [
        "#replace Nans with 'blank' to avoid the rows from being dropped\n",
        "user_df_groupby = user_df_groupby.fillna('blank')"
      ],
      "execution_count": null,
      "outputs": []
    },
    {
      "cell_type": "code",
      "metadata": {
        "id": "sNHCv8SVCfXC"
      },
      "source": [
        "# groupby and count the number of rows\n",
        "user_df_groupby = user_df_groupby.groupby(['GCcleanPOBprec']).count().copy()"
      ],
      "execution_count": null,
      "outputs": []
    },
    {
      "cell_type": "code",
      "metadata": {
        "id": "d4j-gnQDDMEE",
        "colab": {
          "base_uri": "https://localhost:8080/",
          "height": 235
        },
        "outputId": "8be1700b-aea7-46de-85f8-655e3a76c839"
      },
      "source": [
        "user_df_groupby"
      ],
      "execution_count": null,
      "outputs": [
        {
          "output_type": "execute_result",
          "data": {
            "text/html": [
              "<div>\n",
              "<style scoped>\n",
              "    .dataframe tbody tr th:only-of-type {\n",
              "        vertical-align: middle;\n",
              "    }\n",
              "\n",
              "    .dataframe tbody tr th {\n",
              "        vertical-align: top;\n",
              "    }\n",
              "\n",
              "    .dataframe thead th {\n",
              "        text-align: right;\n",
              "    }\n",
              "</style>\n",
              "<table border=\"1\" class=\"dataframe\">\n",
              "  <thead>\n",
              "    <tr style=\"text-align: right;\">\n",
              "      <th></th>\n",
              "      <th>ersatz_id</th>\n",
              "      <th>GCcleanPOBlat</th>\n",
              "      <th>GCcleanPOBlon</th>\n",
              "      <th>rawPOB</th>\n",
              "    </tr>\n",
              "    <tr>\n",
              "      <th>GCcleanPOBprec</th>\n",
              "      <th></th>\n",
              "      <th></th>\n",
              "      <th></th>\n",
              "      <th></th>\n",
              "    </tr>\n",
              "  </thead>\n",
              "  <tbody>\n",
              "    <tr>\n",
              "      <th>blank</th>\n",
              "      <td>289</td>\n",
              "      <td>289</td>\n",
              "      <td>289</td>\n",
              "      <td>289</td>\n",
              "    </tr>\n",
              "    <tr>\n",
              "      <th>county</th>\n",
              "      <td>663</td>\n",
              "      <td>663</td>\n",
              "      <td>663</td>\n",
              "      <td>663</td>\n",
              "    </tr>\n",
              "    <tr>\n",
              "      <th>plus</th>\n",
              "      <td>738</td>\n",
              "      <td>738</td>\n",
              "      <td>738</td>\n",
              "      <td>738</td>\n",
              "    </tr>\n",
              "    <tr>\n",
              "      <th>state</th>\n",
              "      <td>1246</td>\n",
              "      <td>1246</td>\n",
              "      <td>1246</td>\n",
              "      <td>1246</td>\n",
              "    </tr>\n",
              "    <tr>\n",
              "      <th>town</th>\n",
              "      <td>27828</td>\n",
              "      <td>27828</td>\n",
              "      <td>27828</td>\n",
              "      <td>27828</td>\n",
              "    </tr>\n",
              "  </tbody>\n",
              "</table>\n",
              "</div>"
            ],
            "text/plain": [
              "                ersatz_id  GCcleanPOBlat  GCcleanPOBlon  rawPOB\n",
              "GCcleanPOBprec                                                 \n",
              "blank                 289            289            289     289\n",
              "county                663            663            663     663\n",
              "plus                  738            738            738     738\n",
              "state                1246           1246           1246    1246\n",
              "town                27828          27828          27828   27828"
            ]
          },
          "metadata": {
            "tags": []
          },
          "execution_count": 92
        }
      ]
    },
    {
      "cell_type": "code",
      "metadata": {
        "id": "7an4i4dv10kS"
      },
      "source": [
        "#export result \n",
        "user_df_groupby.to_csv('user_df_groupby.csv')"
      ],
      "execution_count": null,
      "outputs": []
    }
  ]
}